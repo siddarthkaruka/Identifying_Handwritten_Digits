{
  "nbformat": 4,
  "nbformat_minor": 0,
  "metadata": {
    "kernelspec": {
      "name": "python3",
      "display_name": "Python 3"
    },
    "language_info": {
      "codemirror_mode": {
        "name": "ipython",
        "version": 3
      },
      "file_extension": ".py",
      "mimetype": "text/x-python",
      "name": "python",
      "nbconvert_exporter": "python",
      "pygments_lexer": "ipython3",
      "version": "3.6.9"
    },
    "colab": {
      "name": "Identify_Handwritten_Digits_MNIST.ipynb",
      "provenance": [],
      "collapsed_sections": []
    }
  },
  "cells": [
    {
      "cell_type": "code",
      "metadata": {
        "id": "DitVEvBnvA51",
        "colab_type": "code",
        "colab": {}
      },
      "source": [
        "import warnings\n",
        "warnings.filterwarnings(\"ignore\")"
      ],
      "execution_count": 0,
      "outputs": []
    },
    {
      "cell_type": "code",
      "metadata": {
        "scrolled": true,
        "id": "29peaU-SvA55",
        "colab_type": "code",
        "outputId": "02549cdf-e112-4c36-8d73-1a595beb77d1",
        "colab": {
          "base_uri": "https://localhost:8080/",
          "height": 34
        }
      },
      "source": [
        "from keras.datasets import mnist\n",
        "import numpy as np\n",
        "import matplotlib.pyplot as plt"
      ],
      "execution_count": 2,
      "outputs": [
        {
          "output_type": "stream",
          "text": [
            "Using TensorFlow backend.\n"
          ],
          "name": "stderr"
        }
      ]
    },
    {
      "cell_type": "code",
      "metadata": {
        "id": "AfcacT7vvA59",
        "colab_type": "code",
        "colab": {
          "base_uri": "https://localhost:8080/",
          "height": 51
        },
        "outputId": "2f019083-eb76-468f-8d64-02a3eff67fcb"
      },
      "source": [
        "(X_train, y_train), (X_test, y_test) = mnist.load_data()"
      ],
      "execution_count": 3,
      "outputs": [
        {
          "output_type": "stream",
          "text": [
            "Downloading data from https://s3.amazonaws.com/img-datasets/mnist.npz\n",
            "11493376/11490434 [==============================] - 1s 0us/step\n"
          ],
          "name": "stdout"
        }
      ]
    },
    {
      "cell_type": "code",
      "metadata": {
        "id": "lkAko7nOvA5_",
        "colab_type": "code",
        "outputId": "b18ee3dd-f287-4406-fe3d-aea32622a431",
        "colab": {
          "base_uri": "https://localhost:8080/",
          "height": 34
        }
      },
      "source": [
        "print((X_train.shape,y_train.shape),(X_test.shape,y_test.shape))"
      ],
      "execution_count": 4,
      "outputs": [
        {
          "output_type": "stream",
          "text": [
            "((60000, 28, 28), (60000,)) ((10000, 28, 28), (10000,))\n"
          ],
          "name": "stdout"
        }
      ]
    },
    {
      "cell_type": "code",
      "metadata": {
        "id": "Eg2RFvflvA6B",
        "colab_type": "code",
        "outputId": "8118a45c-c196-4c21-9daa-d54fd03475ab",
        "colab": {
          "base_uri": "https://localhost:8080/",
          "height": 265
        }
      },
      "source": [
        "plt.imshow(X_train[50],cmap='gray')\n",
        "plt.axis('off');"
      ],
      "execution_count": 0,
      "outputs": [
        {
          "output_type": "display_data",
          "data": {
            "image/png": "[encoded data removed]",
            "text/plain": [
              "<Figure size 432x288 with 1 Axes>"
            ]
          },
          "metadata": {
            "tags": []
          }
        }
      ]
    },
    {
      "cell_type": "code",
      "metadata": {
        "id": "yY0aAhnevA6D",
        "colab_type": "code",
        "outputId": "aece6551-ce62-4ff9-f6f1-63dbe6c60302",
        "colab": {
          "base_uri": "https://localhost:8080/",
          "height": 34
        }
      },
      "source": [
        "y_train[50]"
      ],
      "execution_count": 0,
      "outputs": [
        {
          "output_type": "execute_result",
          "data": {
            "text/plain": [
              "3"
            ]
          },
          "metadata": {
            "tags": []
          },
          "execution_count": 6
        }
      ]
    },
    {
      "cell_type": "code",
      "metadata": {
        "id": "Y28DvQONuaK1",
        "colab_type": "code",
        "colab": {}
      },
      "source": [
        "X_train = X_train.reshape(60000,28*28)\n",
        "X_test = X_test.reshape(10000,28*28)"
      ],
      "execution_count": 0,
      "outputs": []
    },
    {
      "cell_type": "code",
      "metadata": {
        "id": "1-J2L-718xIp",
        "colab_type": "code",
        "colab": {}
      },
      "source": [
        "from sklearn import svm"
      ],
      "execution_count": 0,
      "outputs": []
    },
    {
      "cell_type": "code",
      "metadata": {
        "id": "lGMC9_nTuBsh",
        "colab_type": "code",
        "outputId": "86fee353-cbd6-4694-ca62-c4182a1e8888",
        "colab": {
          "base_uri": "https://localhost:8080/",
          "height": 51
        }
      },
      "source": [
        "clf = svm.SVC(kernel='poly',degree=2,gamma='auto')\n",
        "clf.fit(X_train, y_train)\n",
        "train_predictions = clf.predict(X_train)\n",
        "test_predictions = clf.predict(X_test)\n",
        "train_error = np.sum(train_predictions != y_train)/len(y_train)\n",
        "test_error = np.sum(test_predictions != y_test)/len(y_test)\n",
        "print('Training error is {}'.format(train_error))\n",
        "print('Test error is {}'.format(test_error))"
      ],
      "execution_count": 0,
      "outputs": [
        {
          "output_type": "stream",
          "text": [
            "Training error is 0.0\n",
            "Test error is 0.0194\n"
          ],
          "name": "stdout"
        }
      ]
    },
    {
      "cell_type": "code",
      "metadata": {
        "id": "Y7RVQ1UrvA6G",
        "colab_type": "code",
        "colab": {}
      },
      "source": [
        "X_train = X_train.astype('float')\n",
        "X_test = X_test.astype('float')\n",
        "X_train /= 255.\n",
        "X_test /= 255."
      ],
      "execution_count": 0,
      "outputs": []
    },
    {
      "cell_type": "code",
      "metadata": {
        "id": "nlgEQoClvA6I",
        "colab_type": "code",
        "colab": {
          "base_uri": "https://localhost:8080/",
          "height": 51
        },
        "outputId": "cd13b941-6f79-4154-eeb5-e7b57709d735"
      },
      "source": [
        "clf2 = svm.SVC(kernel='poly',degree=2,gamma='auto')\n",
        "clf2.fit(X_train, y_train)\n",
        "train2_predictions = clf2.predict(X_train)\n",
        "test2_predictions = clf2.predict(X_test)\n",
        "train2_error = np.sum(train2_predictions != y_train)/len(y_train)\n",
        "test2_error = np.sum(test2_predictions != y_test)/len(y_test)\n",
        "print('Training error is {}'.format(train2_error))\n",
        "print('Test error is {}'.format(test2_error))"
      ],
      "execution_count": 8,
      "outputs": [
        {
          "output_type": "stream",
          "text": [
            "Training error is 0.08998333333333333\n",
            "Test error is 0.086\n"
          ],
          "name": "stdout"
        }
      ]
    },
    {
      "cell_type": "markdown",
      "metadata": {
        "id": "eeyPKppLYyQU",
        "colab_type": "text"
      },
      "source": [
        "Interestingly the accuracy drops (error increases) after scaling"
      ]
    },
    {
      "cell_type": "markdown",
      "metadata": {
        "id": "IEGScnYjujkE",
        "colab_type": "text"
      },
      "source": [
        "###Now let's try the Neural Network and see if we can get better performance"
      ]
    },
    {
      "cell_type": "code",
      "metadata": {
        "id": "x_UmFRYKvA6O",
        "colab_type": "code",
        "colab": {}
      },
      "source": [
        "from keras.preprocessing.image import load_img, array_to_img\n",
        "from keras.utils.np_utils import to_categorical\n",
        "from keras.models import Sequential\n",
        "from keras.layers import Dense"
      ],
      "execution_count": 0,
      "outputs": []
    },
    {
      "cell_type": "code",
      "metadata": {
        "id": "76VWg2jevA6Q",
        "colab_type": "code",
        "outputId": "8422b4ec-040b-4628-b845-cd6f41f7a2da",
        "colab": {
          "base_uri": "https://localhost:8080/",
          "height": 425
        }
      },
      "source": [
        "model_nn = Sequential()\n",
        "model_nn.add(Dense(512,activation='relu',input_shape=(784,)))\n",
        "model_nn.add(Dense(512,activation='relu'))\n",
        "model_nn.add(Dense(10,activation='softmax'))\n",
        "model_nn.compile(optimizer='adam',loss='categorical_crossentropy',metrics=['accuracy'])\n",
        "model_nn.summary()"
      ],
      "execution_count": 0,
      "outputs": [
        {
          "output_type": "stream",
          "text": [
            "WARNING:tensorflow:From /usr/local/lib/python3.6/dist-packages/keras/backend/tensorflow_backend.py:66: The name tf.get_default_graph is deprecated. Please use tf.compat.v1.get_default_graph instead.\n",
            "\n",
            "WARNING:tensorflow:From /usr/local/lib/python3.6/dist-packages/keras/backend/tensorflow_backend.py:541: The name tf.placeholder is deprecated. Please use tf.compat.v1.placeholder instead.\n",
            "\n",
            "WARNING:tensorflow:From /usr/local/lib/python3.6/dist-packages/keras/backend/tensorflow_backend.py:4432: The name tf.random_uniform is deprecated. Please use tf.random.uniform instead.\n",
            "\n",
            "WARNING:tensorflow:From /usr/local/lib/python3.6/dist-packages/keras/optimizers.py:793: The name tf.train.Optimizer is deprecated. Please use tf.compat.v1.train.Optimizer instead.\n",
            "\n",
            "WARNING:tensorflow:From /usr/local/lib/python3.6/dist-packages/keras/backend/tensorflow_backend.py:3576: The name tf.log is deprecated. Please use tf.math.log instead.\n",
            "\n",
            "Model: \"sequential_1\"\n",
            "_________________________________________________________________\n",
            "Layer (type)                 Output Shape              Param #   \n",
            "=================================================================\n",
            "dense_1 (Dense)              (None, 512)               401920    \n",
            "_________________________________________________________________\n",
            "dense_2 (Dense)              (None, 512)               262656    \n",
            "_________________________________________________________________\n",
            "dense_3 (Dense)              (None, 10)                5130      \n",
            "=================================================================\n",
            "Total params: 669,706\n",
            "Trainable params: 669,706\n",
            "Non-trainable params: 0\n",
            "_________________________________________________________________\n"
          ],
          "name": "stdout"
        }
      ]
    },
    {
      "cell_type": "code",
      "metadata": {
        "id": "EMdBCL-OvA6S",
        "colab_type": "code",
        "outputId": "758a227f-eb0c-4cbf-9e9c-5f212f5cfac3",
        "colab": {
          "base_uri": "https://localhost:8080/",
          "height": 68
        }
      },
      "source": [
        "print(784*512 + 512) # num_params = input_nodes*layer1_nodes + bias_params\n",
        "print(512*512 + 512) # num_params = layer1_nodes*layer2_nodes + bias_params\n",
        "print(512*10 + 10) # num_params = layer2_nodes*ouput_nodes + bias_params"
      ],
      "execution_count": 0,
      "outputs": [
        {
          "output_type": "stream",
          "text": [
            "401920\n",
            "262656\n",
            "5130\n"
          ],
          "name": "stdout"
        }
      ]
    },
    {
      "cell_type": "code",
      "metadata": {
        "id": "jlfduFaUvA6U",
        "colab_type": "code",
        "outputId": "093e7f54-cac9-4cbb-9656-ab87c9f328c4",
        "colab": {
          "base_uri": "https://localhost:8080/",
          "height": 34
        }
      },
      "source": [
        "y_train = to_categorical(y_train,10)\n",
        "y_test = to_categorical(y_test,10)\n",
        "print(y_train.shape, y_test.shape)"
      ],
      "execution_count": 0,
      "outputs": [
        {
          "output_type": "stream",
          "text": [
            "(60000, 10) (10000, 10)\n"
          ],
          "name": "stdout"
        }
      ]
    },
    {
      "cell_type": "code",
      "metadata": {
        "id": "3zGHF0wzvA6W",
        "colab_type": "code",
        "outputId": "1efb4aed-8b0a-4de0-aa55-3c823c2d42d9",
        "colab": {
          "base_uri": "https://localhost:8080/",
          "height": 819
        }
      },
      "source": [
        "history_nn = model_nn.fit(X_train,y_train,epochs=20,validation_data=(X_test,y_test))"
      ],
      "execution_count": 0,
      "outputs": [
        {
          "output_type": "stream",
          "text": [
            "WARNING:tensorflow:From /usr/local/lib/python3.6/dist-packages/tensorflow/python/ops/math_grad.py:1250: add_dispatch_support.<locals>.wrapper (from tensorflow.python.ops.array_ops) is deprecated and will be removed in a future version.\n",
            "Instructions for updating:\n",
            "Use tf.where in 2.0, which has the same broadcast rule as np.where\n",
            "WARNING:tensorflow:From /usr/local/lib/python3.6/dist-packages/keras/backend/tensorflow_backend.py:1033: The name tf.assign_add is deprecated. Please use tf.compat.v1.assign_add instead.\n",
            "\n",
            "Train on 60000 samples, validate on 10000 samples\n",
            "Epoch 1/20\n",
            "60000/60000 [==============================] - 8s 132us/step - loss: 0.1809 - acc: 0.9451 - val_loss: 0.0928 - val_acc: 0.9698\n",
            "Epoch 2/20\n",
            "60000/60000 [==============================] - 7s 116us/step - loss: 0.0787 - acc: 0.9761 - val_loss: 0.0858 - val_acc: 0.9738\n",
            "Epoch 3/20\n",
            "60000/60000 [==============================] - 7s 115us/step - loss: 0.0553 - acc: 0.9825 - val_loss: 0.0760 - val_acc: 0.9777\n",
            "Epoch 4/20\n",
            "60000/60000 [==============================] - 7s 114us/step - loss: 0.0429 - acc: 0.9859 - val_loss: 0.0841 - val_acc: 0.9766\n",
            "Epoch 5/20\n",
            "60000/60000 [==============================] - 7s 113us/step - loss: 0.0356 - acc: 0.9885 - val_loss: 0.0826 - val_acc: 0.9808\n",
            "Epoch 6/20\n",
            "60000/60000 [==============================] - 7s 113us/step - loss: 0.0281 - acc: 0.9910 - val_loss: 0.1147 - val_acc: 0.9733\n",
            "Epoch 7/20\n",
            "60000/60000 [==============================] - 7s 112us/step - loss: 0.0268 - acc: 0.9913 - val_loss: 0.0874 - val_acc: 0.9781\n",
            "Epoch 8/20\n",
            "60000/60000 [==============================] - 7s 113us/step - loss: 0.0220 - acc: 0.9932 - val_loss: 0.0865 - val_acc: 0.9805\n",
            "Epoch 9/20\n",
            "60000/60000 [==============================] - 7s 114us/step - loss: 0.0203 - acc: 0.9940 - val_loss: 0.0897 - val_acc: 0.9810\n",
            "Epoch 10/20\n",
            "60000/60000 [==============================] - 7s 113us/step - loss: 0.0203 - acc: 0.9941 - val_loss: 0.0998 - val_acc: 0.9806\n",
            "Epoch 11/20\n",
            "60000/60000 [==============================] - 7s 114us/step - loss: 0.0158 - acc: 0.9953 - val_loss: 0.1241 - val_acc: 0.9766\n",
            "Epoch 12/20\n",
            "60000/60000 [==============================] - 7s 112us/step - loss: 0.0186 - acc: 0.9944 - val_loss: 0.1196 - val_acc: 0.9809\n",
            "Epoch 13/20\n",
            "60000/60000 [==============================] - 7s 114us/step - loss: 0.0148 - acc: 0.9954 - val_loss: 0.1330 - val_acc: 0.9780\n",
            "Epoch 14/20\n",
            "60000/60000 [==============================] - 7s 113us/step - loss: 0.0156 - acc: 0.9957 - val_loss: 0.1141 - val_acc: 0.9821\n",
            "Epoch 15/20\n",
            "60000/60000 [==============================] - 7s 112us/step - loss: 0.0148 - acc: 0.9962 - val_loss: 0.1111 - val_acc: 0.9821\n",
            "Epoch 16/20\n",
            "60000/60000 [==============================] - 7s 113us/step - loss: 0.0168 - acc: 0.9954 - val_loss: 0.1096 - val_acc: 0.9809\n",
            "Epoch 17/20\n",
            "60000/60000 [==============================] - 7s 111us/step - loss: 0.0101 - acc: 0.9970 - val_loss: 0.1427 - val_acc: 0.9785\n",
            "Epoch 18/20\n",
            "60000/60000 [==============================] - 7s 115us/step - loss: 0.0149 - acc: 0.9962 - val_loss: 0.1374 - val_acc: 0.9797\n",
            "Epoch 19/20\n",
            "60000/60000 [==============================] - 7s 118us/step - loss: 0.0143 - acc: 0.9965 - val_loss: 0.1330 - val_acc: 0.9809\n",
            "Epoch 20/20\n",
            "60000/60000 [==============================] - 7s 118us/step - loss: 0.0118 - acc: 0.9970 - val_loss: 0.1439 - val_acc: 0.9802\n"
          ],
          "name": "stdout"
        }
      ]
    },
    {
      "cell_type": "code",
      "metadata": {
        "id": "XQ94AtFFvA6Y",
        "colab_type": "code",
        "outputId": "c67edf73-b44c-45b2-e233-3920e3f77265",
        "colab": {
          "base_uri": "https://localhost:8080/",
          "height": 51
        }
      },
      "source": [
        "print(\"{} = {}\".format(model_nn.metrics_names,model_nn.evaluate(X_test,y_test)))"
      ],
      "execution_count": 0,
      "outputs": [
        {
          "output_type": "stream",
          "text": [
            "10000/10000 [==============================] - 0s 35us/step\n",
            "['loss', 'acc'] = [0.1439499208655775, 0.9802]\n"
          ],
          "name": "stdout"
        }
      ]
    },
    {
      "cell_type": "code",
      "metadata": {
        "id": "YnINIo8OvA6e",
        "colab_type": "code",
        "outputId": "302f0537-dc45-485c-85a3-de9600f57e01",
        "colab": {
          "base_uri": "https://localhost:8080/",
          "height": 283
        }
      },
      "source": [
        "plt.plot(history_nn.history['acc'],label='Training Accuracy')\n",
        "plt.xlabel('Epoch')\n",
        "plt.ylabel('Accuracy')\n",
        "plt.legend();"
      ],
      "execution_count": 0,
      "outputs": [
        {
          "output_type": "display_data",
          "data": {
            "image/png": "[encoded data removed]",
            "text/plain": [
              "<Figure size 432x288 with 1 Axes>"
            ]
          },
          "metadata": {
            "tags": []
          }
        }
      ]
    },
    {
      "cell_type": "code",
      "metadata": {
        "id": "Xq9m6JhFvA6g",
        "colab_type": "code",
        "outputId": "b97bc127-7a2c-4883-863e-0e0b00df6d31",
        "colab": {
          "base_uri": "https://localhost:8080/",
          "height": 283
        }
      },
      "source": [
        "plt.plot(history_nn.history['acc'],label='Training Accuracy')\n",
        "plt.plot(history_nn.history['val_acc'],label='Validation Accuracy')\n",
        "plt.xlabel('Epoch')\n",
        "plt.ylabel('Accuracy')\n",
        "plt.legend();"
      ],
      "execution_count": 0,
      "outputs": [
        {
          "output_type": "display_data",
          "data": {
            "image/png": "[encoded data removed]",
            "text/plain": [
              "<Figure size 432x288 with 1 Axes>"
            ]
          },
          "metadata": {
            "tags": []
          }
        }
      ]
    },
    {
      "cell_type": "code",
      "metadata": {
        "id": "mA_Ilo_NvA6i",
        "colab_type": "code",
        "outputId": "fcc9bc46-4bd5-424f-ee91-8ecf7f6a69ed",
        "colab": {
          "base_uri": "https://localhost:8080/",
          "height": 1000
        }
      },
      "source": [
        "# Plot first 5 wrong predictions\n",
        "x,i = 0,0\n",
        "j = True\n",
        "while j:\n",
        "    test_image = X_test[x,:].reshape(1,784)\n",
        "    predicted_cat = model_nn.predict(test_image).argmax()\n",
        "    label = y_test[x].argmax()\n",
        "    x+=1\n",
        "    if (predicted_cat != label):\n",
        "        i+=1\n",
        "        plt.title('Prediction: %d Label: %d' % (predicted_cat, label))\n",
        "        plt.imshow(test_image.reshape([28,28]), cmap=plt.get_cmap('gray'))\n",
        "        plt.axis('off')\n",
        "        plt.show()\n",
        "        if i == 5:\n",
        "          j = False"
      ],
      "execution_count": 0,
      "outputs": [
        {
          "output_type": "display_data",
          "data": {
            "image/png": "[encoded data removed]",
            "text/plain": [
              "<Figure size 432x288 with 1 Axes>"
            ]
          },
          "metadata": {
            "tags": []
          }
        },
        {
          "output_type": "display_data",
          "data": {
            "image/png": "[encoded data removed]",
            "text/plain": [
              "<Figure size 432x288 with 1 Axes>"
            ]
          },
          "metadata": {
            "tags": []
          }
        },
        {
          "output_type": "display_data",
          "data": {
            "image/png": "[encoded data removed]",
            "text/plain": [
              "<Figure size 432x288 with 1 Axes>"
            ]
          },
          "metadata": {
            "tags": []
          }
        },
        {
          "output_type": "display_data",
          "data": {
            "image/png": "[encoded data removed]",
            "text/plain": [
              "<Figure size 432x288 with 1 Axes>"
            ]
          },
          "metadata": {
            "tags": []
          }
        },
        {
          "output_type": "display_data",
          "data": {
            "image/png": "[encoded data removed]",
            "text/plain": [
              "<Figure size 432x288 with 1 Axes>"
            ]
          },
          "metadata": {
            "tags": []
          }
        }
      ]
    },
    {
      "cell_type": "code",
      "metadata": {
        "id": "n_tus9ibvA6k",
        "colab_type": "code",
        "colab": {}
      },
      "source": [
        ""
      ],
      "execution_count": 0,
      "outputs": []
    },
    {
      "cell_type": "code",
      "metadata": {
        "id": "DhGT7F1MvA6n",
        "colab_type": "code",
        "colab": {}
      },
      "source": [
        "from keras.layers import Conv2D, MaxPooling2D, Flatten, Dense, Dropout"
      ],
      "execution_count": 0,
      "outputs": []
    },
    {
      "cell_type": "code",
      "metadata": {
        "id": "Fz8BateVvA6v",
        "colab_type": "code",
        "colab": {}
      },
      "source": [
        "X_train = X_train.reshape(60000,28,28,1)\n",
        "X_test = X_test.reshape(10000,28,28,1)"
      ],
      "execution_count": 0,
      "outputs": []
    },
    {
      "cell_type": "code",
      "metadata": {
        "id": "bBX9AHiovA60",
        "colab_type": "code",
        "outputId": "330fbdc5-4434-4dd6-cf28-d35a3be764fa",
        "colab": {
          "base_uri": "https://localhost:8080/",
          "height": 442
        }
      },
      "source": [
        "cnn = Sequential()\n",
        "cnn.add(Conv2D(64, kernel_size=(5,5),input_shape=(28,28,1), padding='same', activation='relu'))\n",
        "cnn.add(MaxPooling2D())\n",
        "#cnn.add(Dropout(0.25))\n",
        "cnn.add(Conv2D(64, kernel_size=(5,5),padding='same', activation='relu'))\n",
        "cnn.add(MaxPooling2D())\n",
        "cnn.add(Flatten())\n",
        "cnn.add(Dense(1024,activation='relu'))\n",
        "cnn.add(Dense(10,activation='softmax'))\n",
        "cnn.compile(optimizer='adam',loss='categorical_crossentropy',metrics=['accuracy'])\n",
        "print(cnn.summary())"
      ],
      "execution_count": 0,
      "outputs": [
        {
          "output_type": "stream",
          "text": [
            "WARNING:tensorflow:From /usr/local/lib/python3.6/dist-packages/keras/backend/tensorflow_backend.py:4267: The name tf.nn.max_pool is deprecated. Please use tf.nn.max_pool2d instead.\n",
            "\n",
            "Model: \"sequential_2\"\n",
            "_________________________________________________________________\n",
            "Layer (type)                 Output Shape              Param #   \n",
            "=================================================================\n",
            "conv2d_1 (Conv2D)            (None, 28, 28, 64)        1664      \n",
            "_________________________________________________________________\n",
            "max_pooling2d_1 (MaxPooling2 (None, 14, 14, 64)        0         \n",
            "_________________________________________________________________\n",
            "conv2d_2 (Conv2D)            (None, 14, 14, 64)        102464    \n",
            "_________________________________________________________________\n",
            "max_pooling2d_2 (MaxPooling2 (None, 7, 7, 64)          0         \n",
            "_________________________________________________________________\n",
            "flatten_1 (Flatten)          (None, 3136)              0         \n",
            "_________________________________________________________________\n",
            "dense_4 (Dense)              (None, 1024)              3212288   \n",
            "_________________________________________________________________\n",
            "dense_5 (Dense)              (None, 10)                10250     \n",
            "=================================================================\n",
            "Total params: 3,326,666\n",
            "Trainable params: 3,326,666\n",
            "Non-trainable params: 0\n",
            "_________________________________________________________________\n",
            "None\n"
          ],
          "name": "stdout"
        }
      ]
    },
    {
      "cell_type": "code",
      "metadata": {
        "id": "a_vQjZ2zvA62",
        "colab_type": "code",
        "outputId": "e4de6ae6-9a27-4835-d237-23ac0e885d61",
        "colab": {
          "base_uri": "https://localhost:8080/",
          "height": 714
        }
      },
      "source": [
        "history_cnn = cnn.fit(X_train,y_train,epochs=20,verbose=1,validation_data=(X_train,y_train))"
      ],
      "execution_count": 0,
      "outputs": [
        {
          "output_type": "stream",
          "text": [
            "Train on 60000 samples, validate on 60000 samples\n",
            "Epoch 1/20\n",
            "60000/60000 [==============================] - 18s 302us/step - loss: 0.0926 - acc: 0.9709 - val_loss: 0.0330 - val_acc: 0.9897\n",
            "Epoch 2/20\n",
            "60000/60000 [==============================] - 16s 266us/step - loss: 0.0356 - acc: 0.9890 - val_loss: 0.0202 - val_acc: 0.9934\n",
            "Epoch 3/20\n",
            "60000/60000 [==============================] - 16s 267us/step - loss: 0.0234 - acc: 0.9926 - val_loss: 0.0162 - val_acc: 0.9946\n",
            "Epoch 4/20\n",
            "60000/60000 [==============================] - 16s 268us/step - loss: 0.0201 - acc: 0.9936 - val_loss: 0.0109 - val_acc: 0.9965\n",
            "Epoch 5/20\n",
            "60000/60000 [==============================] - 16s 270us/step - loss: 0.0134 - acc: 0.9960 - val_loss: 0.0107 - val_acc: 0.9967\n",
            "Epoch 6/20\n",
            "60000/60000 [==============================] - 16s 270us/step - loss: 0.0131 - acc: 0.9961 - val_loss: 0.0100 - val_acc: 0.9973\n",
            "Epoch 7/20\n",
            "60000/60000 [==============================] - 16s 270us/step - loss: 0.0102 - acc: 0.9969 - val_loss: 0.0266 - val_acc: 0.9934\n",
            "Epoch 8/20\n",
            "60000/60000 [==============================] - 16s 270us/step - loss: 0.0083 - acc: 0.9975 - val_loss: 0.0069 - val_acc: 0.9978\n",
            "Epoch 9/20\n",
            "60000/60000 [==============================] - 16s 270us/step - loss: 0.0096 - acc: 0.9973 - val_loss: 0.0030 - val_acc: 0.9991\n",
            "Epoch 10/20\n",
            "60000/60000 [==============================] - 16s 269us/step - loss: 0.0077 - acc: 0.9980 - val_loss: 0.0021 - val_acc: 0.9994\n",
            "Epoch 11/20\n",
            "60000/60000 [==============================] - 16s 269us/step - loss: 0.0070 - acc: 0.9981 - val_loss: 0.0112 - val_acc: 0.9969\n",
            "Epoch 12/20\n",
            "60000/60000 [==============================] - 16s 270us/step - loss: 0.0083 - acc: 0.9977 - val_loss: 0.0072 - val_acc: 0.9982\n",
            "Epoch 13/20\n",
            "60000/60000 [==============================] - 16s 269us/step - loss: 0.0082 - acc: 0.9980 - val_loss: 0.0078 - val_acc: 0.9978\n",
            "Epoch 14/20\n",
            "60000/60000 [==============================] - 16s 271us/step - loss: 0.0057 - acc: 0.9986 - val_loss: 0.0026 - val_acc: 0.9994\n",
            "Epoch 15/20\n",
            "60000/60000 [==============================] - 16s 269us/step - loss: 0.0054 - acc: 0.9986 - val_loss: 0.0062 - val_acc: 0.9988\n",
            "Epoch 16/20\n",
            "60000/60000 [==============================] - 16s 272us/step - loss: 0.0076 - acc: 0.9981 - val_loss: 0.0092 - val_acc: 0.9980\n",
            "Epoch 17/20\n",
            "60000/60000 [==============================] - 17s 277us/step - loss: 0.0062 - acc: 0.9989 - val_loss: 0.0041 - val_acc: 0.9990\n",
            "Epoch 18/20\n",
            "60000/60000 [==============================] - 16s 270us/step - loss: 0.0057 - acc: 0.9987 - val_loss: 0.0024 - val_acc: 0.9995\n",
            "Epoch 19/20\n",
            "60000/60000 [==============================] - 16s 270us/step - loss: 0.0047 - acc: 0.9988 - val_loss: 0.0089 - val_acc: 0.9980\n",
            "Epoch 20/20\n",
            "60000/60000 [==============================] - 16s 271us/step - loss: 0.0074 - acc: 0.9985 - val_loss: 0.0068 - val_acc: 0.9989\n"
          ],
          "name": "stdout"
        }
      ]
    },
    {
      "cell_type": "code",
      "metadata": {
        "id": "yVfVbLxrvA64",
        "colab_type": "code",
        "outputId": "9a19cfa3-1320-45d4-fe81-abaeeeb32faa",
        "colab": {
          "base_uri": "https://localhost:8080/",
          "height": 283
        }
      },
      "source": [
        "plt.plot(history_nn.history['acc'],label='NN Training Accuracy')\n",
        "plt.plot(history_nn.history['val_acc'],label='NN Validation Accuracy')\n",
        "plt.plot(history_cnn.history['acc'],label='CNN Training Accuracy')\n",
        "plt.plot(history_cnn.history['val_acc'],label='CNN Validation Accuracy')\n",
        "plt.xlabel('Epoch')\n",
        "plt.ylabel('Accuracy')\n",
        "plt.legend();"
      ],
      "execution_count": 0,
      "outputs": [
        {
          "output_type": "display_data",
          "data": {
            "image/png": "[encoded data removed]",
            "text/plain": [
              "<Figure size 432x288 with 1 Axes>"
            ]
          },
          "metadata": {
            "tags": []
          }
        }
      ]
    },
    {
      "cell_type": "code",
      "metadata": {
        "id": "wCauoCKUvA67",
        "colab_type": "code",
        "outputId": "3026eb66-0f51-4ce1-8a13-7b8f7201e1e4",
        "colab": {
          "base_uri": "https://localhost:8080/",
          "height": 51
        }
      },
      "source": [
        "print(\"{} = {}\".format(cnn.metrics_names,cnn.evaluate(X_test,y_test)))"
      ],
      "execution_count": 0,
      "outputs": [
        {
          "output_type": "stream",
          "text": [
            "10000/10000 [==============================] - 1s 69us/step\n",
            "['loss', 'acc'] = [0.055503791714786914, 0.992]\n"
          ],
          "name": "stdout"
        }
      ]
    },
    {
      "cell_type": "code",
      "metadata": {
        "id": "LGWnBt4hvA7C",
        "colab_type": "code",
        "outputId": "c13b4d7c-566a-4668-e151-17da0e890d6e",
        "colab": {
          "base_uri": "https://localhost:8080/",
          "height": 1000
        }
      },
      "source": [
        "# Plot first 5 wrong predictions\n",
        "x,i = 0,0\n",
        "j = True\n",
        "while j:\n",
        "    test_image = X_test[x,:].reshape(1,28,28,1)\n",
        "    predicted_cat = cnn.predict(test_image).argmax()\n",
        "    label = y_test[x].argmax()\n",
        "    x+=1\n",
        "    if (predicted_cat != label):\n",
        "        i+=1\n",
        "        plt.title('Prediction: %d Label: %d' % (predicted_cat, label))\n",
        "        plt.imshow(test_image.reshape([28,28]), cmap=plt.get_cmap('gray'))\n",
        "        plt.axis('off')\n",
        "        plt.show()\n",
        "        if i == 10:\n",
        "          j = False"
      ],
      "execution_count": 0,
      "outputs": [
        {
          "output_type": "display_data",
          "data": {
            "image/png": "[encoded data removed]",
            "text/plain": [
              "<Figure size 432x288 with 1 Axes>"
            ]
          },
          "metadata": {
            "tags": []
          }
        },
        {
          "output_type": "display_data",
          "data": {
            "image/png": "[encoded data removed]",
            "text/plain": [
              "<Figure size 432x288 with 1 Axes>"
            ]
          },
          "metadata": {
            "tags": []
          }
        },
        {
          "output_type": "display_data",
          "data": {
            "image/png": "[encoded data removed]",
            "text/plain": [
              "<Figure size 432x288 with 1 Axes>"
            ]
          },
          "metadata": {
            "tags": []
          }
        },
        {
          "output_type": "display_data",
          "data": {
            "image/png": "[encoded data removed]",
            "text/plain": [
              "<Figure size 432x288 with 1 Axes>"
            ]
          },
          "metadata": {
            "tags": []
          }
        },
        {
          "output_type": "display_data",
          "data": {
            "image/png": "[encoded data removed]",
            "text/plain": [
              "<Figure size 432x288 with 1 Axes>"
            ]
          },
          "metadata": {
            "tags": []
          }
        },
        {
          "output_type": "display_data",
          "data": {
            "image/png": "[encoded data removed]",
            "text/plain": [
              "<Figure size 432x288 with 1 Axes>"
            ]
          },
          "metadata": {
            "tags": []
          }
        },
        {
          "output_type": "display_data",
          "data": {
            "image/png": "[encoded data removed]",
            "text/plain": [
              "<Figure size 432x288 with 1 Axes>"
            ]
          },
          "metadata": {
            "tags": []
          }
        },
        {
          "output_type": "display_data",
          "data": {
            "image/png": "[encoded data removed]",
            "text/plain": [
              "<Figure size 432x288 with 1 Axes>"
            ]
          },
          "metadata": {
            "tags": []
          }
        },
        {
          "output_type": "display_data",
          "data": {
            "image/png": "[encoded data removed]",
            "text/plain": [
              "<Figure size 432x288 with 1 Axes>"
            ]
          },
          "metadata": {
            "tags": []
          }
        },
        {
          "output_type": "display_data",
          "data": {
            "image/png": "[encoded data removed]",
            "text/plain": [
              "<Figure size 432x288 with 1 Axes>"
            ]
          },
          "metadata": {
            "tags": []
          }
        }
      ]
    }
  ]
}